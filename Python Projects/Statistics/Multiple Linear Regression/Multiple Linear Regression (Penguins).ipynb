{
 "cells": [
  {
   "cell_type": "markdown",
   "id": "9da06050",
   "metadata": {},
   "source": [
    "## Multiple Linear Regression"
   ]
  },
  {
   "cell_type": "code",
   "execution_count": 6,
   "id": "957bf638",
   "metadata": {},
   "outputs": [],
   "source": [
    "# import libraries \n",
    "import pandas as pd\n",
    "import seaborn as sns "
   ]
  },
  {
   "cell_type": "code",
   "execution_count": 7,
   "id": "1143853d",
   "metadata": {},
   "outputs": [
    {
     "data": {
      "text/html": [
       "<div>\n",
       "<style scoped>\n",
       "    .dataframe tbody tr th:only-of-type {\n",
       "        vertical-align: middle;\n",
       "    }\n",
       "\n",
       "    .dataframe tbody tr th {\n",
       "        vertical-align: top;\n",
       "    }\n",
       "\n",
       "    .dataframe thead th {\n",
       "        text-align: right;\n",
       "    }\n",
       "</style>\n",
       "<table border=\"1\" class=\"dataframe\">\n",
       "  <thead>\n",
       "    <tr style=\"text-align: right;\">\n",
       "      <th></th>\n",
       "      <th>species</th>\n",
       "      <th>island</th>\n",
       "      <th>bill_length_mm</th>\n",
       "      <th>bill_depth_mm</th>\n",
       "      <th>flipper_length_mm</th>\n",
       "      <th>body_mass_g</th>\n",
       "      <th>sex</th>\n",
       "    </tr>\n",
       "  </thead>\n",
       "  <tbody>\n",
       "    <tr>\n",
       "      <th>0</th>\n",
       "      <td>Adelie</td>\n",
       "      <td>Torgersen</td>\n",
       "      <td>39.1</td>\n",
       "      <td>18.7</td>\n",
       "      <td>181.0</td>\n",
       "      <td>3750.0</td>\n",
       "      <td>Male</td>\n",
       "    </tr>\n",
       "    <tr>\n",
       "      <th>1</th>\n",
       "      <td>Adelie</td>\n",
       "      <td>Torgersen</td>\n",
       "      <td>39.5</td>\n",
       "      <td>17.4</td>\n",
       "      <td>186.0</td>\n",
       "      <td>3800.0</td>\n",
       "      <td>Female</td>\n",
       "    </tr>\n",
       "    <tr>\n",
       "      <th>2</th>\n",
       "      <td>Adelie</td>\n",
       "      <td>Torgersen</td>\n",
       "      <td>40.3</td>\n",
       "      <td>18.0</td>\n",
       "      <td>195.0</td>\n",
       "      <td>3250.0</td>\n",
       "      <td>Female</td>\n",
       "    </tr>\n",
       "    <tr>\n",
       "      <th>3</th>\n",
       "      <td>Adelie</td>\n",
       "      <td>Torgersen</td>\n",
       "      <td>NaN</td>\n",
       "      <td>NaN</td>\n",
       "      <td>NaN</td>\n",
       "      <td>NaN</td>\n",
       "      <td>NaN</td>\n",
       "    </tr>\n",
       "    <tr>\n",
       "      <th>4</th>\n",
       "      <td>Adelie</td>\n",
       "      <td>Torgersen</td>\n",
       "      <td>36.7</td>\n",
       "      <td>19.3</td>\n",
       "      <td>193.0</td>\n",
       "      <td>3450.0</td>\n",
       "      <td>Female</td>\n",
       "    </tr>\n",
       "  </tbody>\n",
       "</table>\n",
       "</div>"
      ],
      "text/plain": [
       "  species     island  bill_length_mm  bill_depth_mm  flipper_length_mm  \\\n",
       "0  Adelie  Torgersen            39.1           18.7              181.0   \n",
       "1  Adelie  Torgersen            39.5           17.4              186.0   \n",
       "2  Adelie  Torgersen            40.3           18.0              195.0   \n",
       "3  Adelie  Torgersen             NaN            NaN                NaN   \n",
       "4  Adelie  Torgersen            36.7           19.3              193.0   \n",
       "\n",
       "   body_mass_g     sex  \n",
       "0       3750.0    Male  \n",
       "1       3800.0  Female  \n",
       "2       3250.0  Female  \n",
       "3          NaN     NaN  \n",
       "4       3450.0  Female  "
      ]
     },
     "execution_count": 7,
     "metadata": {},
     "output_type": "execute_result"
    }
   ],
   "source": [
    "# load data\n",
    "penguins = sns.load_dataset(\"penguins\", cache = False)\n",
    "penguins.head()"
   ]
  },
  {
   "cell_type": "markdown",
   "id": "95243844",
   "metadata": {},
   "source": [
    "### Data Cleaning"
   ]
  },
  {
   "cell_type": "code",
   "execution_count": 8,
   "id": "3707c9df",
   "metadata": {},
   "outputs": [
    {
     "data": {
      "text/html": [
       "<div>\n",
       "<style scoped>\n",
       "    .dataframe tbody tr th:only-of-type {\n",
       "        vertical-align: middle;\n",
       "    }\n",
       "\n",
       "    .dataframe tbody tr th {\n",
       "        vertical-align: top;\n",
       "    }\n",
       "\n",
       "    .dataframe thead th {\n",
       "        text-align: right;\n",
       "    }\n",
       "</style>\n",
       "<table border=\"1\" class=\"dataframe\">\n",
       "  <thead>\n",
       "    <tr style=\"text-align: right;\">\n",
       "      <th></th>\n",
       "      <th>body_mass_g</th>\n",
       "      <th>bill_length_mm</th>\n",
       "      <th>gender</th>\n",
       "      <th>species</th>\n",
       "    </tr>\n",
       "  </thead>\n",
       "  <tbody>\n",
       "    <tr>\n",
       "      <th>0</th>\n",
       "      <td>3750.0</td>\n",
       "      <td>39.1</td>\n",
       "      <td>Male</td>\n",
       "      <td>Adelie</td>\n",
       "    </tr>\n",
       "    <tr>\n",
       "      <th>1</th>\n",
       "      <td>3800.0</td>\n",
       "      <td>39.5</td>\n",
       "      <td>Female</td>\n",
       "      <td>Adelie</td>\n",
       "    </tr>\n",
       "    <tr>\n",
       "      <th>2</th>\n",
       "      <td>3250.0</td>\n",
       "      <td>40.3</td>\n",
       "      <td>Female</td>\n",
       "      <td>Adelie</td>\n",
       "    </tr>\n",
       "    <tr>\n",
       "      <th>3</th>\n",
       "      <td>3450.0</td>\n",
       "      <td>36.7</td>\n",
       "      <td>Female</td>\n",
       "      <td>Adelie</td>\n",
       "    </tr>\n",
       "    <tr>\n",
       "      <th>4</th>\n",
       "      <td>3650.0</td>\n",
       "      <td>39.3</td>\n",
       "      <td>Male</td>\n",
       "      <td>Adelie</td>\n",
       "    </tr>\n",
       "  </tbody>\n",
       "</table>\n",
       "</div>"
      ],
      "text/plain": [
       "   body_mass_g  bill_length_mm  gender species\n",
       "0       3750.0            39.1    Male  Adelie\n",
       "1       3800.0            39.5  Female  Adelie\n",
       "2       3250.0            40.3  Female  Adelie\n",
       "3       3450.0            36.7  Female  Adelie\n",
       "4       3650.0            39.3    Male  Adelie"
      ]
     },
     "execution_count": 8,
     "metadata": {},
     "output_type": "execute_result"
    }
   ],
   "source": [
    "penguins = penguins[[\"body_mass_g\", \"bill_length_mm\", \"sex\", \"species\"]]\n",
    "\n",
    "penguins.columns = [\"body_mass_g\", \"bill_length_mm\", \"gender\", \"species\"]\n",
    "\n",
    "penguins.dropna(inplace=True)\n",
    "\n",
    "penguins.reset_index(inplace=True, drop=True)\n",
    "\n",
    "penguins.head()"
   ]
  },
  {
   "cell_type": "markdown",
   "id": "adb8c37f",
   "metadata": {},
   "source": [
    "### Create holdout sample"
   ]
  },
  {
   "cell_type": "code",
   "execution_count": 9,
   "id": "b957bd35",
   "metadata": {},
   "outputs": [],
   "source": [
    "penguins_x = penguins[['bill_length_mm', 'gender', 'species']]\n",
    "penguins_y = penguins[['body_mass_g']]"
   ]
  },
  {
   "cell_type": "code",
   "execution_count": 11,
   "id": "9bd6d164",
   "metadata": {},
   "outputs": [],
   "source": [
    "from sklearn.model_selection import train_test_split"
   ]
  },
  {
   "cell_type": "markdown",
   "id": "0e0ad5ec",
   "metadata": {},
   "source": [
    "**reference: https://scikit-learn.org/stable/modules/generated/sklearn.model_selection.train_test_split.html**"
   ]
  },
  {
   "cell_type": "code",
   "execution_count": 12,
   "id": "948015fe",
   "metadata": {},
   "outputs": [],
   "source": [
    "x_train, x_test, y_train, y_test = train_test_split(penguins_x, penguins_y, test_size = 0.2, random_state = 42)"
   ]
  },
  {
   "cell_type": "markdown",
   "id": "cf207ab3",
   "metadata": {},
   "source": [
    "### Model construction"
   ]
  },
  {
   "cell_type": "code",
   "execution_count": 14,
   "id": "a7a6ff77",
   "metadata": {},
   "outputs": [],
   "source": [
    "# OLS formula \n",
    "ols_formula = 'body_mass_g ~ bill_length_mm + C(gender) + C(species)'"
   ]
  },
  {
   "cell_type": "markdown",
   "id": "4fe0d24a",
   "metadata": {},
   "source": [
    "I use **`C()`** to indicate a categorical variable. This will tell the ols() function to one hot encode those variables in the model."
   ]
  },
  {
   "cell_type": "code",
   "execution_count": 15,
   "id": "4e5d4d11",
   "metadata": {},
   "outputs": [],
   "source": [
    "from statsmodels.formula.api import ols"
   ]
  },
  {
   "cell_type": "markdown",
   "id": "1a2b6fcc",
   "metadata": {},
   "source": [
    "**reference: https://www.statsmodels.org/stable/generated/statsmodels.regression.linear_model.OLS.html**"
   ]
  },
  {
   "cell_type": "code",
   "execution_count": 17,
   "id": "b282dcaa",
   "metadata": {},
   "outputs": [],
   "source": [
    "# create OLS dataframe\n",
    "ols_data = pd.concat([x_train, y_train], axis = 1)\n",
    "\n",
    "# create OLS object and fit the model\n",
    "OLS = ols(formula = ols_formula, data = ols_data)\n",
    "model = OLS.fit()"
   ]
  },
  {
   "cell_type": "markdown",
   "id": "970c3a19",
   "metadata": {},
   "source": [
    "### Model Evaluation"
   ]
  },
  {
   "cell_type": "code",
   "execution_count": 18,
   "id": "3a3d9365",
   "metadata": {},
   "outputs": [
    {
     "data": {
      "text/html": [
       "<table class=\"simpletable\">\n",
       "<caption>OLS Regression Results</caption>\n",
       "<tr>\n",
       "  <th>Dep. Variable:</th>       <td>body_mass_g</td>   <th>  R-squared:         </th> <td>   0.853</td> \n",
       "</tr>\n",
       "<tr>\n",
       "  <th>Model:</th>                   <td>OLS</td>       <th>  Adj. R-squared:    </th> <td>   0.851</td> \n",
       "</tr>\n",
       "<tr>\n",
       "  <th>Method:</th>             <td>Least Squares</td>  <th>  F-statistic:       </th> <td>   378.7</td> \n",
       "</tr>\n",
       "<tr>\n",
       "  <th>Date:</th>             <td>Tue, 06 Feb 2024</td> <th>  Prob (F-statistic):</th> <td>2.37e-107</td>\n",
       "</tr>\n",
       "<tr>\n",
       "  <th>Time:</th>                 <td>11:32:21</td>     <th>  Log-Likelihood:    </th> <td> -1902.6</td> \n",
       "</tr>\n",
       "<tr>\n",
       "  <th>No. Observations:</th>      <td>   266</td>      <th>  AIC:               </th> <td>   3815.</td> \n",
       "</tr>\n",
       "<tr>\n",
       "  <th>Df Residuals:</th>          <td>   261</td>      <th>  BIC:               </th> <td>   3833.</td> \n",
       "</tr>\n",
       "<tr>\n",
       "  <th>Df Model:</th>              <td>     4</td>      <th>                     </th>     <td> </td>    \n",
       "</tr>\n",
       "<tr>\n",
       "  <th>Covariance Type:</th>      <td>nonrobust</td>    <th>                     </th>     <td> </td>    \n",
       "</tr>\n",
       "</table>\n",
       "<table class=\"simpletable\">\n",
       "<tr>\n",
       "             <td></td>                <th>coef</th>     <th>std err</th>      <th>t</th>      <th>P>|t|</th>  <th>[0.025</th>    <th>0.975]</th>  \n",
       "</tr>\n",
       "<tr>\n",
       "  <th>Intercept</th>               <td> 2116.4221</td> <td>  311.271</td> <td>    6.799</td> <td> 0.000</td> <td> 1503.499</td> <td> 2729.345</td>\n",
       "</tr>\n",
       "<tr>\n",
       "  <th>C(gender)[T.Male]</th>       <td>  535.4101</td> <td>   49.988</td> <td>   10.711</td> <td> 0.000</td> <td>  436.979</td> <td>  633.841</td>\n",
       "</tr>\n",
       "<tr>\n",
       "  <th>C(species)[T.Chinstrap]</th> <td> -289.0657</td> <td>   96.063</td> <td>   -3.009</td> <td> 0.003</td> <td> -478.222</td> <td>  -99.909</td>\n",
       "</tr>\n",
       "<tr>\n",
       "  <th>C(species)[T.Gentoo]</th>    <td> 1096.4636</td> <td>   84.504</td> <td>   12.975</td> <td> 0.000</td> <td>  930.067</td> <td> 1262.860</td>\n",
       "</tr>\n",
       "<tr>\n",
       "  <th>bill_length_mm</th>          <td>   33.6625</td> <td>    8.366</td> <td>    4.024</td> <td> 0.000</td> <td>   17.189</td> <td>   50.136</td>\n",
       "</tr>\n",
       "</table>\n",
       "<table class=\"simpletable\">\n",
       "<tr>\n",
       "  <th>Omnibus:</th>       <td> 0.182</td> <th>  Durbin-Watson:     </th> <td>   1.998</td>\n",
       "</tr>\n",
       "<tr>\n",
       "  <th>Prob(Omnibus):</th> <td> 0.913</td> <th>  Jarque-Bera (JB):  </th> <td>   0.244</td>\n",
       "</tr>\n",
       "<tr>\n",
       "  <th>Skew:</th>          <td> 0.061</td> <th>  Prob(JB):          </th> <td>   0.885</td>\n",
       "</tr>\n",
       "<tr>\n",
       "  <th>Kurtosis:</th>      <td> 2.915</td> <th>  Cond. No.          </th> <td>    768.</td>\n",
       "</tr>\n",
       "</table><br/><br/>Notes:<br/>[1] Standard Errors assume that the covariance matrix of the errors is correctly specified."
      ],
      "text/latex": [
       "\\begin{center}\n",
       "\\begin{tabular}{lclc}\n",
       "\\toprule\n",
       "\\textbf{Dep. Variable:}          &  body\\_mass\\_g   & \\textbf{  R-squared:         } &     0.853   \\\\\n",
       "\\textbf{Model:}                  &       OLS        & \\textbf{  Adj. R-squared:    } &     0.851   \\\\\n",
       "\\textbf{Method:}                 &  Least Squares   & \\textbf{  F-statistic:       } &     378.7   \\\\\n",
       "\\textbf{Date:}                   & Tue, 06 Feb 2024 & \\textbf{  Prob (F-statistic):} & 2.37e-107   \\\\\n",
       "\\textbf{Time:}                   &     11:32:21     & \\textbf{  Log-Likelihood:    } &   -1902.6   \\\\\n",
       "\\textbf{No. Observations:}       &         266      & \\textbf{  AIC:               } &     3815.   \\\\\n",
       "\\textbf{Df Residuals:}           &         261      & \\textbf{  BIC:               } &     3833.   \\\\\n",
       "\\textbf{Df Model:}               &           4      & \\textbf{                     } &             \\\\\n",
       "\\textbf{Covariance Type:}        &    nonrobust     & \\textbf{                     } &             \\\\\n",
       "\\bottomrule\n",
       "\\end{tabular}\n",
       "\\begin{tabular}{lcccccc}\n",
       "                                 & \\textbf{coef} & \\textbf{std err} & \\textbf{t} & \\textbf{P$> |$t$|$} & \\textbf{[0.025} & \\textbf{0.975]}  \\\\\n",
       "\\midrule\n",
       "\\textbf{Intercept}               &    2116.4221  &      311.271     &     6.799  &         0.000        &     1503.499    &     2729.345     \\\\\n",
       "\\textbf{C(gender)[T.Male]}       &     535.4101  &       49.988     &    10.711  &         0.000        &      436.979    &      633.841     \\\\\n",
       "\\textbf{C(species)[T.Chinstrap]} &    -289.0657  &       96.063     &    -3.009  &         0.003        &     -478.222    &      -99.909     \\\\\n",
       "\\textbf{C(species)[T.Gentoo]}    &    1096.4636  &       84.504     &    12.975  &         0.000        &      930.067    &     1262.860     \\\\\n",
       "\\textbf{bill\\_length\\_mm}        &      33.6625  &        8.366     &     4.024  &         0.000        &       17.189    &       50.136     \\\\\n",
       "\\bottomrule\n",
       "\\end{tabular}\n",
       "\\begin{tabular}{lclc}\n",
       "\\textbf{Omnibus:}       &  0.182 & \\textbf{  Durbin-Watson:     } &    1.998  \\\\\n",
       "\\textbf{Prob(Omnibus):} &  0.913 & \\textbf{  Jarque-Bera (JB):  } &    0.244  \\\\\n",
       "\\textbf{Skew:}          &  0.061 & \\textbf{  Prob(JB):          } &    0.885  \\\\\n",
       "\\textbf{Kurtosis:}      &  2.915 & \\textbf{  Cond. No.          } &     768.  \\\\\n",
       "\\bottomrule\n",
       "\\end{tabular}\n",
       "%\\caption{OLS Regression Results}\n",
       "\\end{center}\n",
       "\n",
       "Notes: \\newline\n",
       " [1] Standard Errors assume that the covariance matrix of the errors is correctly specified."
      ],
      "text/plain": [
       "<class 'statsmodels.iolib.summary.Summary'>\n",
       "\"\"\"\n",
       "                            OLS Regression Results                            \n",
       "==============================================================================\n",
       "Dep. Variable:            body_mass_g   R-squared:                       0.853\n",
       "Model:                            OLS   Adj. R-squared:                  0.851\n",
       "Method:                 Least Squares   F-statistic:                     378.7\n",
       "Date:                Tue, 06 Feb 2024   Prob (F-statistic):          2.37e-107\n",
       "Time:                        11:32:21   Log-Likelihood:                -1902.6\n",
       "No. Observations:                 266   AIC:                             3815.\n",
       "Df Residuals:                     261   BIC:                             3833.\n",
       "Df Model:                           4                                         \n",
       "Covariance Type:            nonrobust                                         \n",
       "===========================================================================================\n",
       "                              coef    std err          t      P>|t|      [0.025      0.975]\n",
       "-------------------------------------------------------------------------------------------\n",
       "Intercept                2116.4221    311.271      6.799      0.000    1503.499    2729.345\n",
       "C(gender)[T.Male]         535.4101     49.988     10.711      0.000     436.979     633.841\n",
       "C(species)[T.Chinstrap]  -289.0657     96.063     -3.009      0.003    -478.222     -99.909\n",
       "C(species)[T.Gentoo]     1096.4636     84.504     12.975      0.000     930.067    1262.860\n",
       "bill_length_mm             33.6625      8.366      4.024      0.000      17.189      50.136\n",
       "==============================================================================\n",
       "Omnibus:                        0.182   Durbin-Watson:                   1.998\n",
       "Prob(Omnibus):                  0.913   Jarque-Bera (JB):                0.244\n",
       "Skew:                           0.061   Prob(JB):                        0.885\n",
       "Kurtosis:                       2.915   Cond. No.                         768.\n",
       "==============================================================================\n",
       "\n",
       "Notes:\n",
       "[1] Standard Errors assume that the covariance matrix of the errors is correctly specified.\n",
       "\"\"\""
      ]
     },
     "execution_count": 18,
     "metadata": {},
     "output_type": "execute_result"
    }
   ],
   "source": [
    "model.summary()"
   ]
  },
  {
   "cell_type": "markdown",
   "id": "417e07d3",
   "metadata": {},
   "source": [
    "#### Gender\n",
    "`If all other variables are constant, then we would expect a male penguin's body mass to be about 535.41 grams more than a female penguin's body mass.`\n",
    "\n",
    "#### Species\n",
    "`If we compare an Adelie penguin and a Gentoo penguin, who have the same characteristics except their species, we would expect the Gentoo penguin to have a body mass of about 1,096.46 grams more than the Adelie penguin.`\n",
    "\n",
    "\n",
    "#### Bill Length\n",
    "`Bill length (mm) is a continuous variable, so if we compare two penguins who have the same characteristics, except one penguin's bill is 1 millimeter longer, we would expect the penguin with the longer bill to have 33.66 grams more body mass than the penguin with the shorter bill.`\n"
   ]
  }
 ],
 "metadata": {
  "kernelspec": {
   "display_name": "Python 3 (ipykernel)",
   "language": "python",
   "name": "python3"
  },
  "language_info": {
   "codemirror_mode": {
    "name": "ipython",
    "version": 3
   },
   "file_extension": ".py",
   "mimetype": "text/x-python",
   "name": "python",
   "nbconvert_exporter": "python",
   "pygments_lexer": "ipython3",
   "version": "3.11.5"
  }
 },
 "nbformat": 4,
 "nbformat_minor": 5
}
