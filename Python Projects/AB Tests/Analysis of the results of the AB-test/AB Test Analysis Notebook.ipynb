{
 "cells": [
  {
   "cell_type": "code",
   "execution_count": 1,
   "id": "d3e7171c",
   "metadata": {},
   "outputs": [],
   "source": [
    "import pandas as pd \n",
    "from scipy import stats"
   ]
  },
  {
   "cell_type": "code",
   "execution_count": 2,
   "id": "4da68d50",
   "metadata": {},
   "outputs": [],
   "source": [
    "df = pd.read_csv('AB_test_results.csv')"
   ]
  },
  {
   "cell_type": "code",
   "execution_count": 3,
   "id": "9e061249",
   "metadata": {},
   "outputs": [
    {
     "data": {
      "text/html": [
       "<div>\n",
       "<style scoped>\n",
       "    .dataframe tbody tr th:only-of-type {\n",
       "        vertical-align: middle;\n",
       "    }\n",
       "\n",
       "    .dataframe tbody tr th {\n",
       "        vertical-align: top;\n",
       "    }\n",
       "\n",
       "    .dataframe thead th {\n",
       "        text-align: right;\n",
       "    }\n",
       "</style>\n",
       "<table border=\"1\" class=\"dataframe\">\n",
       "  <thead>\n",
       "    <tr style=\"text-align: right;\">\n",
       "      <th></th>\n",
       "      <th>user_id</th>\n",
       "      <th>install_date</th>\n",
       "      <th>country</th>\n",
       "      <th>test_group</th>\n",
       "      <th>trial</th>\n",
       "      <th>paid</th>\n",
       "      <th>subscription_name</th>\n",
       "      <th>revenue_1m</th>\n",
       "    </tr>\n",
       "  </thead>\n",
       "  <tbody>\n",
       "    <tr>\n",
       "      <th>0</th>\n",
       "      <td>0000dd3fa4702a63d1b76aaffe1ab39b</td>\n",
       "      <td>2023-06-05</td>\n",
       "      <td>US</td>\n",
       "      <td>treatment</td>\n",
       "      <td>0</td>\n",
       "      <td>0</td>\n",
       "      <td>NaN</td>\n",
       "      <td>0.0</td>\n",
       "    </tr>\n",
       "    <tr>\n",
       "      <th>1</th>\n",
       "      <td>0001f27ab7e22228e54c8b2028b43f24</td>\n",
       "      <td>2023-06-07</td>\n",
       "      <td>AU</td>\n",
       "      <td>treatment</td>\n",
       "      <td>0</td>\n",
       "      <td>0</td>\n",
       "      <td>NaN</td>\n",
       "      <td>0.0</td>\n",
       "    </tr>\n",
       "    <tr>\n",
       "      <th>2</th>\n",
       "      <td>0006c5c547801308b36ea3cf669856ae</td>\n",
       "      <td>2023-06-07</td>\n",
       "      <td>AU</td>\n",
       "      <td>treatment</td>\n",
       "      <td>0</td>\n",
       "      <td>0</td>\n",
       "      <td>NaN</td>\n",
       "      <td>0.0</td>\n",
       "    </tr>\n",
       "    <tr>\n",
       "      <th>3</th>\n",
       "      <td>000d1a300263c5db91cbefa3852898a7</td>\n",
       "      <td>2023-06-07</td>\n",
       "      <td>AU</td>\n",
       "      <td>control</td>\n",
       "      <td>0</td>\n",
       "      <td>0</td>\n",
       "      <td>NaN</td>\n",
       "      <td>0.0</td>\n",
       "    </tr>\n",
       "    <tr>\n",
       "      <th>4</th>\n",
       "      <td>000e5e62e8746e467ed9f49ac5de3208</td>\n",
       "      <td>2023-06-06</td>\n",
       "      <td>US</td>\n",
       "      <td>treatment</td>\n",
       "      <td>0</td>\n",
       "      <td>0</td>\n",
       "      <td>NaN</td>\n",
       "      <td>0.0</td>\n",
       "    </tr>\n",
       "  </tbody>\n",
       "</table>\n",
       "</div>"
      ],
      "text/plain": [
       "                            user_id install_date country test_group  trial  \\\n",
       "0  0000dd3fa4702a63d1b76aaffe1ab39b   2023-06-05      US  treatment      0   \n",
       "1  0001f27ab7e22228e54c8b2028b43f24   2023-06-07      AU  treatment      0   \n",
       "2  0006c5c547801308b36ea3cf669856ae   2023-06-07      AU  treatment      0   \n",
       "3  000d1a300263c5db91cbefa3852898a7   2023-06-07      AU    control      0   \n",
       "4  000e5e62e8746e467ed9f49ac5de3208   2023-06-06      US  treatment      0   \n",
       "\n",
       "   paid subscription_name  revenue_1m  \n",
       "0     0               NaN         0.0  \n",
       "1     0               NaN         0.0  \n",
       "2     0               NaN         0.0  \n",
       "3     0               NaN         0.0  \n",
       "4     0               NaN         0.0  "
      ]
     },
     "execution_count": 3,
     "metadata": {},
     "output_type": "execute_result"
    }
   ],
   "source": [
    "df.head()"
   ]
  },
  {
   "cell_type": "code",
   "execution_count": 4,
   "id": "886f1899",
   "metadata": {},
   "outputs": [
    {
     "data": {
      "text/plain": [
       "(15285, 8)"
      ]
     },
     "execution_count": 4,
     "metadata": {},
     "output_type": "execute_result"
    }
   ],
   "source": [
    "df.shape"
   ]
  },
  {
   "cell_type": "code",
   "execution_count": 5,
   "id": "9b26353a",
   "metadata": {},
   "outputs": [
    {
     "name": "stdout",
     "output_type": "stream",
     "text": [
      "<class 'pandas.core.frame.DataFrame'>\n",
      "RangeIndex: 15285 entries, 0 to 15284\n",
      "Data columns (total 8 columns):\n",
      " #   Column             Non-Null Count  Dtype  \n",
      "---  ------             --------------  -----  \n",
      " 0   user_id            15285 non-null  object \n",
      " 1   install_date       15285 non-null  object \n",
      " 2   country            15285 non-null  object \n",
      " 3   test_group         15285 non-null  object \n",
      " 4   trial              15285 non-null  int64  \n",
      " 5   paid               15285 non-null  int64  \n",
      " 6   subscription_name  1723 non-null   object \n",
      " 7   revenue_1m         15285 non-null  float64\n",
      "dtypes: float64(1), int64(2), object(5)\n",
      "memory usage: 955.4+ KB\n"
     ]
    }
   ],
   "source": [
    "df.info()"
   ]
  },
  {
   "cell_type": "code",
   "execution_count": 6,
   "id": "cb50b465",
   "metadata": {},
   "outputs": [
    {
     "data": {
      "text/html": [
       "<div>\n",
       "<style scoped>\n",
       "    .dataframe tbody tr th:only-of-type {\n",
       "        vertical-align: middle;\n",
       "    }\n",
       "\n",
       "    .dataframe tbody tr th {\n",
       "        vertical-align: top;\n",
       "    }\n",
       "\n",
       "    .dataframe thead th {\n",
       "        text-align: right;\n",
       "    }\n",
       "</style>\n",
       "<table border=\"1\" class=\"dataframe\">\n",
       "  <thead>\n",
       "    <tr style=\"text-align: right;\">\n",
       "      <th></th>\n",
       "      <th>user_id</th>\n",
       "      <th>install_date</th>\n",
       "      <th>test_group</th>\n",
       "      <th>trial</th>\n",
       "      <th>paid</th>\n",
       "      <th>subscription_name</th>\n",
       "      <th>revenue_1m</th>\n",
       "    </tr>\n",
       "    <tr>\n",
       "      <th>country</th>\n",
       "      <th></th>\n",
       "      <th></th>\n",
       "      <th></th>\n",
       "      <th></th>\n",
       "      <th></th>\n",
       "      <th></th>\n",
       "      <th></th>\n",
       "    </tr>\n",
       "  </thead>\n",
       "  <tbody>\n",
       "    <tr>\n",
       "      <th>AU</th>\n",
       "      <td>3763</td>\n",
       "      <td>3763</td>\n",
       "      <td>3763</td>\n",
       "      <td>3763</td>\n",
       "      <td>3763</td>\n",
       "      <td>419</td>\n",
       "      <td>3763</td>\n",
       "    </tr>\n",
       "    <tr>\n",
       "      <th>CA</th>\n",
       "      <td>3895</td>\n",
       "      <td>3895</td>\n",
       "      <td>3895</td>\n",
       "      <td>3895</td>\n",
       "      <td>3895</td>\n",
       "      <td>427</td>\n",
       "      <td>3895</td>\n",
       "    </tr>\n",
       "    <tr>\n",
       "      <th>GB</th>\n",
       "      <td>3837</td>\n",
       "      <td>3837</td>\n",
       "      <td>3837</td>\n",
       "      <td>3837</td>\n",
       "      <td>3837</td>\n",
       "      <td>479</td>\n",
       "      <td>3837</td>\n",
       "    </tr>\n",
       "    <tr>\n",
       "      <th>US</th>\n",
       "      <td>3790</td>\n",
       "      <td>3790</td>\n",
       "      <td>3790</td>\n",
       "      <td>3790</td>\n",
       "      <td>3790</td>\n",
       "      <td>398</td>\n",
       "      <td>3790</td>\n",
       "    </tr>\n",
       "  </tbody>\n",
       "</table>\n",
       "</div>"
      ],
      "text/plain": [
       "         user_id  install_date  test_group  trial  paid  subscription_name  \\\n",
       "country                                                                      \n",
       "AU          3763          3763        3763   3763  3763                419   \n",
       "CA          3895          3895        3895   3895  3895                427   \n",
       "GB          3837          3837        3837   3837  3837                479   \n",
       "US          3790          3790        3790   3790  3790                398   \n",
       "\n",
       "         revenue_1m  \n",
       "country              \n",
       "AU             3763  \n",
       "CA             3895  \n",
       "GB             3837  \n",
       "US             3790  "
      ]
     },
     "execution_count": 6,
     "metadata": {},
     "output_type": "execute_result"
    }
   ],
   "source": [
    "# Number of records for each country\n",
    "df.groupby('country').count()"
   ]
  },
  {
   "cell_type": "code",
   "execution_count": 7,
   "id": "02919515",
   "metadata": {},
   "outputs": [
    {
     "data": {
      "text/html": [
       "<div>\n",
       "<style scoped>\n",
       "    .dataframe tbody tr th:only-of-type {\n",
       "        vertical-align: middle;\n",
       "    }\n",
       "\n",
       "    .dataframe tbody tr th {\n",
       "        vertical-align: top;\n",
       "    }\n",
       "\n",
       "    .dataframe thead th {\n",
       "        text-align: right;\n",
       "    }\n",
       "</style>\n",
       "<table border=\"1\" class=\"dataframe\">\n",
       "  <thead>\n",
       "    <tr style=\"text-align: right;\">\n",
       "      <th></th>\n",
       "      <th>user_id</th>\n",
       "      <th>subscription_name</th>\n",
       "    </tr>\n",
       "    <tr>\n",
       "      <th>test_group</th>\n",
       "      <th></th>\n",
       "      <th></th>\n",
       "    </tr>\n",
       "  </thead>\n",
       "  <tbody>\n",
       "    <tr>\n",
       "      <th>control</th>\n",
       "      <td>7627</td>\n",
       "      <td>925</td>\n",
       "    </tr>\n",
       "    <tr>\n",
       "      <th>treatment</th>\n",
       "      <td>7658</td>\n",
       "      <td>798</td>\n",
       "    </tr>\n",
       "  </tbody>\n",
       "</table>\n",
       "</div>"
      ],
      "text/plain": [
       "            user_id  subscription_name\n",
       "test_group                            \n",
       "control        7627                925\n",
       "treatment      7658                798"
      ]
     },
     "execution_count": 7,
     "metadata": {},
     "output_type": "execute_result"
    }
   ],
   "source": [
    "# Number of users in each group\n",
    "df[['test_group', 'user_id', 'subscription_name']].groupby('test_group').count()"
   ]
  },
  {
   "cell_type": "code",
   "execution_count": 8,
   "id": "76b4750c",
   "metadata": {},
   "outputs": [
    {
     "name": "stdout",
     "output_type": "stream",
     "text": [
      "user_id    7627\n",
      "dtype: int64\n",
      "user_id    7658\n",
      "dtype: int64\n"
     ]
    }
   ],
   "source": [
    "# Number of users in each group\n",
    "control_users = df[df['test_group'] == 'control'][['user_id']].count()\n",
    "print(control_users)\n",
    "treatment_users = df[df['test_group'] == 'treatment'][['user_id']].count()\n",
    "print(treatment_users)"
   ]
  },
  {
   "cell_type": "code",
   "execution_count": 9,
   "id": "cf1bb241",
   "metadata": {},
   "outputs": [
    {
     "name": "stdout",
     "output_type": "stream",
     "text": [
      "subscription_name    798\n",
      "dtype: int64\n",
      "subscription_name    925\n",
      "dtype: int64\n"
     ]
    }
   ],
   "source": [
    "# Number of trial subscriptions in each group\n",
    "treatment_users_subs = df[df['test_group'] == 'treatment'][['subscription_name']].count()\n",
    "control_users_subs = df[df['test_group'] == 'control'][['subscription_name']].count()\n",
    "print(treatment_users_subs)\n",
    "print(control_users_subs)"
   ]
  },
  {
   "cell_type": "code",
   "execution_count": 10,
   "id": "d5610057",
   "metadata": {},
   "outputs": [
    {
     "name": "stderr",
     "output_type": "stream",
     "text": [
      "C:\\Users\\ironf\\AppData\\Local\\Temp\\ipykernel_13520\\1790847438.py:1: FutureWarning: Calling int on a single element Series is deprecated and will raise a TypeError in the future. Use int(ser.iloc[0]) instead\n",
      "  treatment_users = int(treatment_users)\n",
      "C:\\Users\\ironf\\AppData\\Local\\Temp\\ipykernel_13520\\1790847438.py:2: FutureWarning: Calling int on a single element Series is deprecated and will raise a TypeError in the future. Use int(ser.iloc[0]) instead\n",
      "  treatment_users_subs = int(treatment_users_subs)\n",
      "C:\\Users\\ironf\\AppData\\Local\\Temp\\ipykernel_13520\\1790847438.py:3: FutureWarning: Calling int on a single element Series is deprecated and will raise a TypeError in the future. Use int(ser.iloc[0]) instead\n",
      "  control_users = int(control_users)\n",
      "C:\\Users\\ironf\\AppData\\Local\\Temp\\ipykernel_13520\\1790847438.py:4: FutureWarning: Calling int on a single element Series is deprecated and will raise a TypeError in the future. Use int(ser.iloc[0]) instead\n",
      "  control_users_subs = int(control_users_subs)\n"
     ]
    }
   ],
   "source": [
    "treatment_users = int(treatment_users)\n",
    "treatment_users_subs = int(treatment_users_subs)\n",
    "control_users = int(control_users)\n",
    "control_users_subs = int(control_users_subs)"
   ]
  },
  {
   "cell_type": "code",
   "execution_count": 11,
   "id": "4a8ead98",
   "metadata": {},
   "outputs": [
    {
     "name": "stdout",
     "output_type": "stream",
     "text": [
      "treatment:  10.42\n",
      "control:  12.13\n"
     ]
    }
   ],
   "source": [
    "# Percentage of trial subscriptions in each group \n",
    "treatment_subs_perc = round(treatment_users_subs/treatment_users * 100, 2)\n",
    "cuntrol_subs_perc = round(control_users_subs/control_users * 100, 2)\n",
    "print('treatment: ' , treatment_subs_perc)\n",
    "print('control: ' , cuntrol_subs_perc)"
   ]
  },
  {
   "cell_type": "markdown",
   "id": "e432d8e3",
   "metadata": {},
   "source": [
    "#### The percentage of new trial subscriptions is 1.7% lower"
   ]
  },
  {
   "cell_type": "code",
   "execution_count": 12,
   "id": "cb8df4ce",
   "metadata": {
    "scrolled": true
   },
   "outputs": [
    {
     "data": {
      "text/html": [
       "<div>\n",
       "<style scoped>\n",
       "    .dataframe tbody tr th:only-of-type {\n",
       "        vertical-align: middle;\n",
       "    }\n",
       "\n",
       "    .dataframe tbody tr th {\n",
       "        vertical-align: top;\n",
       "    }\n",
       "\n",
       "    .dataframe thead tr th {\n",
       "        text-align: left;\n",
       "    }\n",
       "\n",
       "    .dataframe thead tr:last-of-type th {\n",
       "        text-align: right;\n",
       "    }\n",
       "</style>\n",
       "<table border=\"1\" class=\"dataframe\">\n",
       "  <thead>\n",
       "    <tr>\n",
       "      <th></th>\n",
       "      <th>subscription_name</th>\n",
       "      <th>revenue_1m</th>\n",
       "    </tr>\n",
       "    <tr>\n",
       "      <th></th>\n",
       "      <th>count</th>\n",
       "      <th>sum</th>\n",
       "    </tr>\n",
       "    <tr>\n",
       "      <th>country</th>\n",
       "      <th></th>\n",
       "      <th></th>\n",
       "    </tr>\n",
       "  </thead>\n",
       "  <tbody>\n",
       "    <tr>\n",
       "      <th>AU</th>\n",
       "      <td>228</td>\n",
       "      <td>179.70</td>\n",
       "    </tr>\n",
       "    <tr>\n",
       "      <th>CA</th>\n",
       "      <td>219</td>\n",
       "      <td>107.82</td>\n",
       "    </tr>\n",
       "    <tr>\n",
       "      <th>GB</th>\n",
       "      <td>270</td>\n",
       "      <td>209.65</td>\n",
       "    </tr>\n",
       "    <tr>\n",
       "      <th>US</th>\n",
       "      <td>208</td>\n",
       "      <td>197.67</td>\n",
       "    </tr>\n",
       "  </tbody>\n",
       "</table>\n",
       "</div>"
      ],
      "text/plain": [
       "        subscription_name revenue_1m\n",
       "                    count        sum\n",
       "country                             \n",
       "AU                    228     179.70\n",
       "CA                    219     107.82\n",
       "GB                    270     209.65\n",
       "US                    208     197.67"
      ]
     },
     "execution_count": 12,
     "metadata": {},
     "output_type": "execute_result"
    }
   ],
   "source": [
    "# Number of subscriptions and amount of rhubarb in each country for the control group of users\n",
    "df[df['test_group'] == 'control'][['country', 'subscription_name', 'revenue_1m']].groupby('country').agg({'subscription_name': ['count'], 'revenue_1m':['sum']})"
   ]
  },
  {
   "cell_type": "code",
   "execution_count": 13,
   "id": "e8bb8088",
   "metadata": {},
   "outputs": [
    {
     "data": {
      "text/html": [
       "<div>\n",
       "<style scoped>\n",
       "    .dataframe tbody tr th:only-of-type {\n",
       "        vertical-align: middle;\n",
       "    }\n",
       "\n",
       "    .dataframe tbody tr th {\n",
       "        vertical-align: top;\n",
       "    }\n",
       "\n",
       "    .dataframe thead tr th {\n",
       "        text-align: left;\n",
       "    }\n",
       "\n",
       "    .dataframe thead tr:last-of-type th {\n",
       "        text-align: right;\n",
       "    }\n",
       "</style>\n",
       "<table border=\"1\" class=\"dataframe\">\n",
       "  <thead>\n",
       "    <tr>\n",
       "      <th></th>\n",
       "      <th>subscription_name</th>\n",
       "      <th>revenue_1m</th>\n",
       "    </tr>\n",
       "    <tr>\n",
       "      <th></th>\n",
       "      <th>count</th>\n",
       "      <th>sum</th>\n",
       "    </tr>\n",
       "    <tr>\n",
       "      <th>country</th>\n",
       "      <th></th>\n",
       "      <th></th>\n",
       "    </tr>\n",
       "  </thead>\n",
       "  <tbody>\n",
       "    <tr>\n",
       "      <th>AU</th>\n",
       "      <td>191</td>\n",
       "      <td>209.30</td>\n",
       "    </tr>\n",
       "    <tr>\n",
       "      <th>CA</th>\n",
       "      <td>208</td>\n",
       "      <td>185.38</td>\n",
       "    </tr>\n",
       "    <tr>\n",
       "      <th>GB</th>\n",
       "      <td>209</td>\n",
       "      <td>221.26</td>\n",
       "    </tr>\n",
       "    <tr>\n",
       "      <th>US</th>\n",
       "      <td>190</td>\n",
       "      <td>176.41</td>\n",
       "    </tr>\n",
       "  </tbody>\n",
       "</table>\n",
       "</div>"
      ],
      "text/plain": [
       "        subscription_name revenue_1m\n",
       "                    count        sum\n",
       "country                             \n",
       "AU                    191     209.30\n",
       "CA                    208     185.38\n",
       "GB                    209     221.26\n",
       "US                    190     176.41"
      ]
     },
     "execution_count": 13,
     "metadata": {},
     "output_type": "execute_result"
    }
   ],
   "source": [
    "# The number of subscriptions and the amount of revenue in each country for the treatment group of users\n",
    "df[df['test_group'] == 'treatment'][['country', 'subscription_name', 'revenue_1m']].groupby('country').agg({'subscription_name': ['count'], 'revenue_1m':['sum']})"
   ]
  },
  {
   "cell_type": "code",
   "execution_count": 14,
   "id": "da1646f0",
   "metadata": {},
   "outputs": [
    {
     "data": {
      "text/plain": [
       "116"
      ]
     },
     "execution_count": 14,
     "metadata": {},
     "output_type": "execute_result"
    }
   ],
   "source": [
    "# Number of full subscriptions for the control group\n",
    "df[df['test_group'] == 'control']['paid'].sum()"
   ]
  },
  {
   "cell_type": "code",
   "execution_count": 15,
   "id": "f94a8fdc",
   "metadata": {},
   "outputs": [
    {
     "data": {
      "text/plain": [
       "149"
      ]
     },
     "execution_count": 15,
     "metadata": {},
     "output_type": "execute_result"
    }
   ],
   "source": [
    "# Number of full subscriptions for the treatment group\n",
    "df[df['test_group'] == 'treatment']['paid'].sum()"
   ]
  },
  {
   "cell_type": "code",
   "execution_count": 16,
   "id": "a73bba8f",
   "metadata": {},
   "outputs": [
    {
     "data": {
      "text/html": [
       "<div>\n",
       "<style scoped>\n",
       "    .dataframe tbody tr th:only-of-type {\n",
       "        vertical-align: middle;\n",
       "    }\n",
       "\n",
       "    .dataframe tbody tr th {\n",
       "        vertical-align: top;\n",
       "    }\n",
       "\n",
       "    .dataframe thead tr th {\n",
       "        text-align: left;\n",
       "    }\n",
       "\n",
       "    .dataframe thead tr:last-of-type th {\n",
       "        text-align: right;\n",
       "    }\n",
       "</style>\n",
       "<table border=\"1\" class=\"dataframe\">\n",
       "  <thead>\n",
       "    <tr>\n",
       "      <th></th>\n",
       "      <th>trial</th>\n",
       "      <th>paid</th>\n",
       "      <th>subscription_name</th>\n",
       "      <th>revenue_1m</th>\n",
       "    </tr>\n",
       "    <tr>\n",
       "      <th></th>\n",
       "      <th>sum</th>\n",
       "      <th>sum</th>\n",
       "      <th>count</th>\n",
       "      <th>sum</th>\n",
       "    </tr>\n",
       "    <tr>\n",
       "      <th>test_group</th>\n",
       "      <th></th>\n",
       "      <th></th>\n",
       "      <th></th>\n",
       "      <th></th>\n",
       "    </tr>\n",
       "  </thead>\n",
       "  <tbody>\n",
       "    <tr>\n",
       "      <th>control</th>\n",
       "      <td>925</td>\n",
       "      <td>116</td>\n",
       "      <td>925</td>\n",
       "      <td>694.84</td>\n",
       "    </tr>\n",
       "    <tr>\n",
       "      <th>treatment</th>\n",
       "      <td>798</td>\n",
       "      <td>149</td>\n",
       "      <td>798</td>\n",
       "      <td>792.35</td>\n",
       "    </tr>\n",
       "  </tbody>\n",
       "</table>\n",
       "</div>"
      ],
      "text/plain": [
       "           trial paid subscription_name revenue_1m\n",
       "             sum  sum             count        sum\n",
       "test_group                                        \n",
       "control      925  116               925     694.84\n",
       "treatment    798  149               798     792.35"
      ]
     },
     "execution_count": 16,
     "metadata": {},
     "output_type": "execute_result"
    }
   ],
   "source": [
    "# Comparison of statistics for each group \n",
    "df[['test_group', 'trial', 'paid', 'subscription_name', 'revenue_1m']].groupby('test_group').agg({'trial':['sum'],'paid':['sum'], 'subscription_name': ['count'], 'revenue_1m':['sum']})"
   ]
  },
  {
   "cell_type": "code",
   "execution_count": 17,
   "id": "ef3dc7be",
   "metadata": {},
   "outputs": [
    {
     "data": {
      "text/html": [
       "<div>\n",
       "<style scoped>\n",
       "    .dataframe tbody tr th:only-of-type {\n",
       "        vertical-align: middle;\n",
       "    }\n",
       "\n",
       "    .dataframe tbody tr th {\n",
       "        vertical-align: top;\n",
       "    }\n",
       "\n",
       "    .dataframe thead tr th {\n",
       "        text-align: left;\n",
       "    }\n",
       "\n",
       "    .dataframe thead tr:last-of-type th {\n",
       "        text-align: right;\n",
       "    }\n",
       "</style>\n",
       "<table border=\"1\" class=\"dataframe\">\n",
       "  <thead>\n",
       "    <tr>\n",
       "      <th></th>\n",
       "      <th></th>\n",
       "      <th>trial</th>\n",
       "      <th>paid</th>\n",
       "      <th>subscription_name</th>\n",
       "      <th>revenue_1m</th>\n",
       "    </tr>\n",
       "    <tr>\n",
       "      <th></th>\n",
       "      <th></th>\n",
       "      <th>sum</th>\n",
       "      <th>sum</th>\n",
       "      <th>count</th>\n",
       "      <th>sum</th>\n",
       "    </tr>\n",
       "    <tr>\n",
       "      <th>test_group</th>\n",
       "      <th>country</th>\n",
       "      <th></th>\n",
       "      <th></th>\n",
       "      <th></th>\n",
       "      <th></th>\n",
       "    </tr>\n",
       "  </thead>\n",
       "  <tbody>\n",
       "    <tr>\n",
       "      <th rowspan=\"4\" valign=\"top\">control</th>\n",
       "      <th>AU</th>\n",
       "      <td>228</td>\n",
       "      <td>30</td>\n",
       "      <td>228</td>\n",
       "      <td>179.70</td>\n",
       "    </tr>\n",
       "    <tr>\n",
       "      <th>CA</th>\n",
       "      <td>219</td>\n",
       "      <td>18</td>\n",
       "      <td>219</td>\n",
       "      <td>107.82</td>\n",
       "    </tr>\n",
       "    <tr>\n",
       "      <th>GB</th>\n",
       "      <td>270</td>\n",
       "      <td>35</td>\n",
       "      <td>270</td>\n",
       "      <td>209.65</td>\n",
       "    </tr>\n",
       "    <tr>\n",
       "      <th>US</th>\n",
       "      <td>208</td>\n",
       "      <td>33</td>\n",
       "      <td>208</td>\n",
       "      <td>197.67</td>\n",
       "    </tr>\n",
       "    <tr>\n",
       "      <th rowspan=\"4\" valign=\"top\">treatment</th>\n",
       "      <th>AU</th>\n",
       "      <td>191</td>\n",
       "      <td>39</td>\n",
       "      <td>191</td>\n",
       "      <td>209.30</td>\n",
       "    </tr>\n",
       "    <tr>\n",
       "      <th>CA</th>\n",
       "      <td>208</td>\n",
       "      <td>37</td>\n",
       "      <td>208</td>\n",
       "      <td>185.38</td>\n",
       "    </tr>\n",
       "    <tr>\n",
       "      <th>GB</th>\n",
       "      <td>209</td>\n",
       "      <td>41</td>\n",
       "      <td>209</td>\n",
       "      <td>221.26</td>\n",
       "    </tr>\n",
       "    <tr>\n",
       "      <th>US</th>\n",
       "      <td>190</td>\n",
       "      <td>32</td>\n",
       "      <td>190</td>\n",
       "      <td>176.41</td>\n",
       "    </tr>\n",
       "  </tbody>\n",
       "</table>\n",
       "</div>"
      ],
      "text/plain": [
       "                   trial paid subscription_name revenue_1m\n",
       "                     sum  sum             count        sum\n",
       "test_group country                                        \n",
       "control    AU        228   30               228     179.70\n",
       "           CA        219   18               219     107.82\n",
       "           GB        270   35               270     209.65\n",
       "           US        208   33               208     197.67\n",
       "treatment  AU        191   39               191     209.30\n",
       "           CA        208   37               208     185.38\n",
       "           GB        209   41               209     221.26\n",
       "           US        190   32               190     176.41"
      ]
     },
     "execution_count": 17,
     "metadata": {},
     "output_type": "execute_result"
    }
   ],
   "source": [
    "# Comparison of statistics for each group and country \n",
    "summary = df[['test_group', 'country', 'trial', 'paid', 'subscription_name', 'revenue_1m']].groupby(['test_group', 'country']).agg({'trial':['sum'],'paid':['sum'], 'subscription_name': ['count'], 'revenue_1m':['sum']})\n",
    "summary"
   ]
  },
  {
   "cell_type": "code",
   "execution_count": 18,
   "id": "ed88fe34",
   "metadata": {},
   "outputs": [
    {
     "data": {
      "text/html": [
       "<div>\n",
       "<style scoped>\n",
       "    .dataframe tbody tr th:only-of-type {\n",
       "        vertical-align: middle;\n",
       "    }\n",
       "\n",
       "    .dataframe tbody tr th {\n",
       "        vertical-align: top;\n",
       "    }\n",
       "\n",
       "    .dataframe thead tr th {\n",
       "        text-align: left;\n",
       "    }\n",
       "\n",
       "    .dataframe thead tr:last-of-type th {\n",
       "        text-align: right;\n",
       "    }\n",
       "</style>\n",
       "<table border=\"1\" class=\"dataframe\">\n",
       "  <thead>\n",
       "    <tr>\n",
       "      <th></th>\n",
       "      <th></th>\n",
       "      <th>trial</th>\n",
       "      <th>paid</th>\n",
       "      <th>subscription_name</th>\n",
       "      <th>revenue_1m</th>\n",
       "      <th>conversion_rate</th>\n",
       "    </tr>\n",
       "    <tr>\n",
       "      <th></th>\n",
       "      <th></th>\n",
       "      <th>sum</th>\n",
       "      <th>sum</th>\n",
       "      <th>count</th>\n",
       "      <th>sum</th>\n",
       "      <th>paid_per_trial</th>\n",
       "    </tr>\n",
       "    <tr>\n",
       "      <th>test_group</th>\n",
       "      <th>country</th>\n",
       "      <th></th>\n",
       "      <th></th>\n",
       "      <th></th>\n",
       "      <th></th>\n",
       "      <th></th>\n",
       "    </tr>\n",
       "  </thead>\n",
       "  <tbody>\n",
       "    <tr>\n",
       "      <th rowspan=\"4\" valign=\"top\">control</th>\n",
       "      <th>AU</th>\n",
       "      <td>228</td>\n",
       "      <td>30</td>\n",
       "      <td>228</td>\n",
       "      <td>179.70</td>\n",
       "      <td>0.131579</td>\n",
       "    </tr>\n",
       "    <tr>\n",
       "      <th>CA</th>\n",
       "      <td>219</td>\n",
       "      <td>18</td>\n",
       "      <td>219</td>\n",
       "      <td>107.82</td>\n",
       "      <td>0.082192</td>\n",
       "    </tr>\n",
       "    <tr>\n",
       "      <th>GB</th>\n",
       "      <td>270</td>\n",
       "      <td>35</td>\n",
       "      <td>270</td>\n",
       "      <td>209.65</td>\n",
       "      <td>0.129630</td>\n",
       "    </tr>\n",
       "    <tr>\n",
       "      <th>US</th>\n",
       "      <td>208</td>\n",
       "      <td>33</td>\n",
       "      <td>208</td>\n",
       "      <td>197.67</td>\n",
       "      <td>0.158654</td>\n",
       "    </tr>\n",
       "    <tr>\n",
       "      <th rowspan=\"4\" valign=\"top\">treatment</th>\n",
       "      <th>AU</th>\n",
       "      <td>191</td>\n",
       "      <td>39</td>\n",
       "      <td>191</td>\n",
       "      <td>209.30</td>\n",
       "      <td>0.204188</td>\n",
       "    </tr>\n",
       "    <tr>\n",
       "      <th>CA</th>\n",
       "      <td>208</td>\n",
       "      <td>37</td>\n",
       "      <td>208</td>\n",
       "      <td>185.38</td>\n",
       "      <td>0.177885</td>\n",
       "    </tr>\n",
       "    <tr>\n",
       "      <th>GB</th>\n",
       "      <td>209</td>\n",
       "      <td>41</td>\n",
       "      <td>209</td>\n",
       "      <td>221.26</td>\n",
       "      <td>0.196172</td>\n",
       "    </tr>\n",
       "    <tr>\n",
       "      <th>US</th>\n",
       "      <td>190</td>\n",
       "      <td>32</td>\n",
       "      <td>190</td>\n",
       "      <td>176.41</td>\n",
       "      <td>0.168421</td>\n",
       "    </tr>\n",
       "  </tbody>\n",
       "</table>\n",
       "</div>"
      ],
      "text/plain": [
       "                   trial paid subscription_name revenue_1m conversion_rate\n",
       "                     sum  sum             count        sum  paid_per_trial\n",
       "test_group country                                                        \n",
       "control    AU        228   30               228     179.70        0.131579\n",
       "           CA        219   18               219     107.82        0.082192\n",
       "           GB        270   35               270     209.65        0.129630\n",
       "           US        208   33               208     197.67        0.158654\n",
       "treatment  AU        191   39               191     209.30        0.204188\n",
       "           CA        208   37               208     185.38        0.177885\n",
       "           GB        209   41               209     221.26        0.196172\n",
       "           US        190   32               190     176.41        0.168421"
      ]
     },
     "execution_count": 18,
     "metadata": {},
     "output_type": "execute_result"
    }
   ],
   "source": [
    "summary[('conversion_rate', 'paid_per_trial')] = summary[('paid', 'sum')] / summary[('trial', 'sum')]\n",
    "summary"
   ]
  },
  {
   "cell_type": "markdown",
   "id": "c6398453",
   "metadata": {},
   "source": [
    "**There is a strong difference in the number of full subscriptions in Canada. 18 (8.2%) in the control group and 37 (17.7%) in the group with new subscriptions**"
   ]
  },
  {
   "cell_type": "code",
   "execution_count": 19,
   "id": "40155fc3",
   "metadata": {},
   "outputs": [
    {
     "name": "stdout",
     "output_type": "stream",
     "text": [
      "149\n",
      "116\n"
     ]
    },
    {
     "name": "stderr",
     "output_type": "stream",
     "text": [
      "C:\\Users\\ironf\\AppData\\Local\\Temp\\ipykernel_13520\\595580691.py:4: FutureWarning: Calling int on a single element Series is deprecated and will raise a TypeError in the future. Use int(ser.iloc[0]) instead\n",
      "  treatment_users_full_subs = int(treatment_users_full_subs)\n",
      "C:\\Users\\ironf\\AppData\\Local\\Temp\\ipykernel_13520\\595580691.py:5: FutureWarning: Calling int on a single element Series is deprecated and will raise a TypeError in the future. Use int(ser.iloc[0]) instead\n",
      "  control_users_full_subs = int(control_users_full_subs)\n"
     ]
    }
   ],
   "source": [
    "treatment_users_full_subs = df[(df['test_group'] == 'treatment') & (df['paid'] == 1)][['user_id']].count()\n",
    "control_users_full_subs = df[(df['test_group'] == 'control') & (df['paid'] == 1)][['user_id']].count()\n",
    "\n",
    "treatment_users_full_subs = int(treatment_users_full_subs)\n",
    "control_users_full_subs = int(control_users_full_subs)\n",
    "\n",
    "print(treatment_users_full_subs)\n",
    "print(control_users_full_subs)"
   ]
  },
  {
   "cell_type": "code",
   "execution_count": 20,
   "id": "277dc291",
   "metadata": {},
   "outputs": [
    {
     "name": "stdout",
     "output_type": "stream",
     "text": [
      "treatment % full sub:  18.671679197994987\n",
      "control % full sub:  12.54054054054054\n"
     ]
    }
   ],
   "source": [
    "# Percentage of full subscriptions (vs. trial subscriptions) among different groups\n",
    "treatment_users_full_subs_perc = treatment_users_full_subs/treatment_users_subs * 100\n",
    "control_users_full_subs_perc = control_users_full_subs/control_users_subs * 100\n",
    "print('treatment % full sub: ', treatment_users_full_subs_perc)\n",
    "print('control % full sub: ', control_users_full_subs_perc)"
   ]
  },
  {
   "cell_type": "markdown",
   "id": "b1b8e74e",
   "metadata": {},
   "source": [
    "#### The renewal rate of new subscriptions is about 1.5 times higher"
   ]
  },
  {
   "cell_type": "markdown",
   "id": "3b0fe035",
   "metadata": {},
   "source": [
    "### Significance testing (Hypothesis testing)"
   ]
  },
  {
   "cell_type": "markdown",
   "id": "9aeefcc1",
   "metadata": {},
   "source": [
    "$H_0$: The average value of full subscription payment in the control group and the treatment group are equal.\n",
    "\n",
    "$H_A$: The average value of full subscription payment in one of the groups differs from the average value in the other group"
   ]
  },
  {
   "cell_type": "markdown",
   "id": "ded05db0",
   "metadata": {},
   "source": [
    "**Significance level:**\n",
    "<br>I chose a **5%** significance level for this project"
   ]
  },
  {
   "cell_type": "code",
   "execution_count": 53,
   "id": "c6bc5392",
   "metadata": {},
   "outputs": [],
   "source": [
    "control_paid = df[df['test_group'] == 'control'].paid"
   ]
  },
  {
   "cell_type": "code",
   "execution_count": 56,
   "id": "d96b665c",
   "metadata": {},
   "outputs": [],
   "source": [
    "treatment_paid = df[df['test_group'] == 'treatment'].paid"
   ]
  },
  {
   "cell_type": "code",
   "execution_count": 55,
   "id": "58d69cab",
   "metadata": {},
   "outputs": [
    {
     "data": {
      "text/plain": [
       "TtestResult(statistic=-2.0123031985781297, pvalue=0.04420573349823753, df=15078.789085480468)"
      ]
     },
     "execution_count": 55,
     "metadata": {},
     "output_type": "execute_result"
    }
   ],
   "source": [
    "stats.ttest_ind(a = control_paid, b = treatment_paid, equal_var = False)"
   ]
  },
  {
   "cell_type": "markdown",
   "id": "6db4fd32",
   "metadata": {},
   "source": [
    "Since the p-value is less than the chosen significance level of 5%, I reject the null hypothesis. This indicates that there is a statistically significant difference between the control and treatment groups."
   ]
  }
 ],
 "metadata": {
  "kernelspec": {
   "display_name": "Python 3 (ipykernel)",
   "language": "python",
   "name": "python3"
  },
  "language_info": {
   "codemirror_mode": {
    "name": "ipython",
    "version": 3
   },
   "file_extension": ".py",
   "mimetype": "text/x-python",
   "name": "python",
   "nbconvert_exporter": "python",
   "pygments_lexer": "ipython3",
   "version": "3.11.5"
  }
 },
 "nbformat": 4,
 "nbformat_minor": 5
}
